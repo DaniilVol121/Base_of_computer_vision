{
 "cells": [
  {
   "cell_type": "code",
   "execution_count": 1,
   "id": "a2b0988f",
   "metadata": {},
   "outputs": [],
   "source": [
    "#Подготовка изображения\n",
    "import cv2\n",
    "\n",
    "img=cv2.imread('D:/Python_4_course/Images/Meme.jpg')\n",
    "img = cv2.cvtColor(img, cv2.COLOR_BGR2GRAY)\n",
    "\n",
    "cv2.imshow('img', img)\n",
    "cv2.waitKey(0)\n",
    "cv2.destroyAllWindows()"
   ]
  },
  {
   "cell_type": "code",
   "execution_count": 2,
   "id": "3c8f3cc4",
   "metadata": {},
   "outputs": [
    {
     "data": {
      "text/plain": [
       "True"
      ]
     },
     "execution_count": 2,
     "metadata": {},
     "output_type": "execute_result"
    }
   ],
   "source": [
    "#Выделенные контуры при помощи фильтра Превитта\n",
    "import cv2\n",
    "import numpy as np\n",
    "\n",
    "img=cv2.imread('D:/Python_4_course/Images/Meme.jpg')\n",
    "img = cv2.cvtColor(img, cv2.COLOR_BGR2GRAY)\n",
    "\n",
    "kernelx = np.array([[-1,-1,-1],[0,0,0], [1,1,1]])\n",
    "kernely = np.array([[-1,0,1],[-1,0,1],[-1,0,1]])\n",
    "img_prewittx = cv2.filter2D(img, -1, kernelx)\n",
    "img_prewitty = cv2.filter2D(img, -1, kernely)\n",
    "prewitt = img_prewittx+img_prewitty\n",
    "cv2.imshow('prewitt', prewitt)\n",
    "cv2.waitKey(0)\n",
    "cv2.destroyAllWindows()\n",
    "cv2.imwrite('Images/lab4/prewitt.png',prewitt)"
   ]
  },
  {
   "cell_type": "code",
   "execution_count": 3,
   "id": "0e0a49a0",
   "metadata": {},
   "outputs": [
    {
     "data": {
      "text/plain": [
       "True"
      ]
     },
     "execution_count": 3,
     "metadata": {},
     "output_type": "execute_result"
    }
   ],
   "source": [
    "#Выделенные контуры при помощи фильтра Собеля\n",
    "import cv2\n",
    "import numpy as np\n",
    "\n",
    "img=cv2.imread('D:/Python_4_course/Images/Meme.jpg')\n",
    "img = cv2.cvtColor(img, cv2.COLOR_BGR2GRAY)\n",
    "\n",
    "kernelx = np.array([[-1,-2,-1],[0,0,0], [1,2,1]])\n",
    "kernely = np.array([[-1,0,1],[-2,0,2],[-1,0,1]])\n",
    "img_sobelx = cv2.filter2D(img, -1, kernelx)\n",
    "img_sobely = cv2.filter2D(img, -1, kernely)\n",
    "sobel = img_sobelx+img_sobely\n",
    "cv2.imshow('Sobel', sobel)\n",
    "cv2.waitKey(0)\n",
    "cv2.destroyAllWindows()\n",
    "cv2.imwrite('Images/lab4/sobel.png',sobel)"
   ]
  },
  {
   "cell_type": "code",
   "execution_count": 4,
   "id": "33bdcd24",
   "metadata": {},
   "outputs": [
    {
     "data": {
      "text/plain": [
       "True"
      ]
     },
     "execution_count": 4,
     "metadata": {},
     "output_type": "execute_result"
    }
   ],
   "source": [
    "#Выделенные контуры при помощи метода Марри-Хилдрета с маской LoG 5x5\n",
    "import cv2\n",
    "import numpy as np\n",
    "\n",
    "img=cv2.imread('D:/Python_4_course/Images/Meme.jpg')\n",
    "img = cv2.cvtColor(img, cv2.COLOR_BGR2GRAY)\n",
    "\n",
    "def edgesMarrHildreth(img, sigma):\n",
    "    size = int(2*(np.ceil(3*sigma))+1)\n",
    "    x, y = np.meshgrid(np.arange(-size/2+1, size/2+1),\n",
    "                        np.arange(-size/2+1, size/2+1))\n",
    "    normal = 1 / (2.0 * np.pi * sigma**2)\n",
    "    kernel = ((x**2 + y**2 - (2.0*sigma**2)) / sigma**4) * \\\n",
    "    np.exp(-(x**2+y**2) / (2.0*sigma**2)) / normal # LoG filter\n",
    "    kern_size = kernel.shape[0]\n",
    "    log = np.zeros_like(img, dtype=float)\n",
    "    # Применение фильтра\n",
    "    for i in range(img.shape[0]-(kern_size-1)):\n",
    "        for j in range(img.shape[1]-(kern_size-1)):\n",
    "            window = img[i:i+kern_size, j:j+kern_size] * kernel\n",
    "            log[i, j] = np.sum(window)\n",
    "\n",
    "    log = log.astype(np.int64, copy=False)\n",
    "    zero_crossing = np.zeros_like(log)\n",
    "    for i in range(log.shape[0]-(kern_size-1)):\n",
    "        for j in range(log.shape[1]-(kern_size-1)):\n",
    "            if log[i][j] == 0:\n",
    "                if (log[i][j-1] < 0 and log[i][j+1] > 0) or (log[i][j-1] < 0 and log[i][j+1] < 0) or (log[i-1][j] < 0 and log[i+1][j] > 0) or (log[i-1][j] > 0 and log[i+1][j] > 0): \n",
    "                    zero_crossing[i][j] = 255\n",
    "            if log[i][j] < 0:\n",
    "                if (log[i][j-1] > 0) or (log[i][j+1] > 0) or (log[i-1][j] > 0) or (log[i+1][j] > 0):\n",
    "                    zero_crossing[i][j] = 255\n",
    "    return zero_crossing\n",
    "       \n",
    "MH = edgesMarrHildreth(img, 3)\n",
    "MH = MH.astype(np.uint8)\n",
    "cv2.imshow(\"MH\",MH)\n",
    "cv2.waitKey(0)\n",
    "cv2.destroyAllWindows()    \n",
    "cv2.imwrite('Images/lab4/MH.png',MH)"
   ]
  },
  {
   "cell_type": "code",
   "execution_count": 5,
   "id": "54f20699",
   "metadata": {},
   "outputs": [
    {
     "data": {
      "text/plain": [
       "True"
      ]
     },
     "execution_count": 5,
     "metadata": {},
     "output_type": "execute_result"
    }
   ],
   "source": [
    "#Выделенные контуры при помощи метода Кэнни\n",
    "import cv2\n",
    "import numpy as np\n",
    "\n",
    "img=cv2.imread('D:/Python_4_course/Images/Meme.jpg')\n",
    "img = cv2.cvtColor(img, cv2.COLOR_BGR2GRAY)\n",
    "\n",
    "canny = cv2.Canny(img, 127, 255)\n",
    "cv2.imshow(\"Canny\",canny)\n",
    "cv2.waitKey(0)\n",
    "cv2.destroyAllWindows()\n",
    "cv2.imwrite('Images/lab4/canny.png',canny)"
   ]
  },
  {
   "cell_type": "code",
   "execution_count": null,
   "id": "17186b37",
   "metadata": {},
   "outputs": [],
   "source": []
  }
 ],
 "metadata": {
  "kernelspec": {
   "display_name": "Python 3 (ipykernel)",
   "language": "python",
   "name": "python3"
  },
  "language_info": {
   "codemirror_mode": {
    "name": "ipython",
    "version": 3
   },
   "file_extension": ".py",
   "mimetype": "text/x-python",
   "name": "python",
   "nbconvert_exporter": "python",
   "pygments_lexer": "ipython3",
   "version": "3.9.12"
  }
 },
 "nbformat": 4,
 "nbformat_minor": 5
}
