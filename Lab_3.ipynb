{
 "cells": [
  {
   "cell_type": "code",
   "execution_count": 5,
   "id": "8ee68ab7",
   "metadata": {},
   "outputs": [
    {
     "data": {
      "text/plain": [
       "-1"
      ]
     },
     "execution_count": 5,
     "metadata": {},
     "output_type": "execute_result"
    }
   ],
   "source": [
    "#Вывод изображения\n",
    "import cv2\n",
    "\n",
    "img=cv2.imread('D:/Python_4_course/Images/Meme.jpg')\n",
    "cv2.imshow('Skelet',img)\n",
    "cv2.waitKey(0)"
   ]
  },
  {
   "cell_type": "code",
   "execution_count": 15,
   "id": "a875b2a6",
   "metadata": {},
   "outputs": [
    {
     "data": {
      "text/plain": [
       "True"
      ]
     },
     "execution_count": 15,
     "metadata": {},
     "output_type": "execute_result"
    }
   ],
   "source": [
    "#Бинарное изображение cv::treshhold\n",
    "import cv2\n",
    "img=cv2.imread('D:/Python_4_course/Images/Meme.jpg')\n",
    "imgGray=cv2.cvtColor(img,cv2.COLOR_BGR2GRAY)\n",
    "(T,binary_img) = cv2.threshold(imgGray,127,255,cv2.THRESH_BINARY )\n",
    "cv2.imshow('bin_img', binary_img)\n",
    "cv2.waitKey(0)\n",
    "cv2.destroyAllWindows()\n",
    "cv2.imwrite('Images/lab3/binary_img.png',binary_img)"
   ]
  },
  {
   "cell_type": "code",
   "execution_count": 16,
   "id": "f55dde6b",
   "metadata": {},
   "outputs": [
    {
     "data": {
      "text/plain": [
       "True"
      ]
     },
     "execution_count": 16,
     "metadata": {},
     "output_type": "execute_result"
    }
   ],
   "source": [
    "#Эрозия изображения cv.getStructuringElement\n",
    "import cv2\n",
    "img=cv2.imread('D:/Python_4_course/Images/Meme.jpg')\n",
    "imgGray=cv2.cvtColor(img,cv2.COLOR_BGR2GRAY)\n",
    "(T,binary_img) = cv2.threshold(imgGray,127,255,cv2.THRESH_BINARY )\n",
    "primitive = cv2.getStructuringElement(cv2.MORPH_ELLIPSE,(5,5))\n",
    "erosion = cv2.erode(binary_img,primitive,iterations = 1)\n",
    "cv2.imshow('erosion', erosion)\n",
    "cv2.waitKey(0)\n",
    "cv2.destroyAllWindows()\n",
    "cv2.imwrite('Images/lab3/erosion.png',erosion)"
   ]
  },
  {
   "cell_type": "code",
   "execution_count": 17,
   "id": "6a12cab7",
   "metadata": {},
   "outputs": [
    {
     "data": {
      "text/plain": [
       "True"
      ]
     },
     "execution_count": 17,
     "metadata": {},
     "output_type": "execute_result"
    }
   ],
   "source": [
    "#Дилатация изображения с тем же примитивом\n",
    "import cv2\n",
    "img=cv2.imread('D:/Python_4_course/Images/Meme.jpg')\n",
    "imgGray=cv2.cvtColor(img,cv2.COLOR_BGR2GRAY)\n",
    "(T,binary_img) = cv2.threshold(imgGray,127,255,cv2.THRESH_BINARY )\n",
    "dilation = cv2.dilate(binary_img,primitive,iterations = 1)\n",
    "cv2.imshow('dilation', dilation)\n",
    "cv2.waitKey(0)\n",
    "cv2.destroyAllWindows()\n",
    "cv2.imwrite('Images/lab3/dilation.png',dilation)"
   ]
  },
  {
   "cell_type": "code",
   "execution_count": 18,
   "id": "400fce75",
   "metadata": {},
   "outputs": [
    {
     "data": {
      "text/plain": [
       "True"
      ]
     },
     "execution_count": 18,
     "metadata": {},
     "output_type": "execute_result"
    }
   ],
   "source": [
    "#Размыкание исходного бинарного изображения\n",
    "import cv2\n",
    "img=cv2.imread('D:/Python_4_course/Images/Meme.jpg')\n",
    "imgGray=cv2.cvtColor(img,cv2.COLOR_BGR2GRAY)\n",
    "(T,binary_img) = cv2.threshold(imgGray,127,255,cv2.THRESH_BINARY )\n",
    "opening = cv2.morphologyEx(binary_img, cv2.MORPH_OPEN, primitive)\n",
    "cv2.imshow('opening', opening)\n",
    "cv2.waitKey(0)\n",
    "cv2.destroyAllWindows()\n",
    "cv2.imwrite('Images/lab3/opening.png',opening)"
   ]
  },
  {
   "cell_type": "code",
   "execution_count": 19,
   "id": "1db91a60",
   "metadata": {},
   "outputs": [
    {
     "data": {
      "text/plain": [
       "True"
      ]
     },
     "execution_count": 19,
     "metadata": {},
     "output_type": "execute_result"
    }
   ],
   "source": [
    "#Замыкание бинарного изображения\n",
    "import cv2\n",
    "img=cv2.imread('D:/Python_4_course/Images/Meme.jpg')\n",
    "imgGray=cv2.cvtColor(img,cv2.COLOR_BGR2GRAY)\n",
    "(T,binary_img) = cv2.threshold(imgGray,127,255,cv2.THRESH_BINARY )\n",
    "closing = cv2.morphologyEx(binary_img, cv2.MORPH_OPEN, primitive)\n",
    "cv2.imshow('closing', closing)\n",
    "cv2.waitKey(0)\n",
    "cv2.destroyAllWindows()\n",
    "cv2.imwrite('Images/lab3/closing.png',closing)"
   ]
  },
  {
   "cell_type": "code",
   "execution_count": 20,
   "id": "3657b0e5",
   "metadata": {},
   "outputs": [
    {
     "data": {
      "text/plain": [
       "True"
      ]
     },
     "execution_count": 20,
     "metadata": {},
     "output_type": "execute_result"
    }
   ],
   "source": [
    "#Получение границ бинарного изображения\n",
    "import cv2\n",
    "img=cv2.imread('D:/Python_4_course/Images/Meme.jpg')\n",
    "imgGray=cv2.cvtColor(img,cv2.COLOR_BGR2GRAY)\n",
    "(T,binary_img) = cv2.threshold(imgGray,127,255,cv2.THRESH_BINARY )\n",
    "edges = binary_img - cv2.erode(binary_img,primitive,iterations = 1)\n",
    "cv2.imshow('edges', edges)\n",
    "cv2.waitKey(0)\n",
    "cv2.destroyAllWindows()\n",
    "cv2.imwrite('Images/lab3/edges.png',edges)"
   ]
  },
  {
   "cell_type": "code",
   "execution_count": null,
   "id": "511a95ad",
   "metadata": {},
   "outputs": [],
   "source": []
  }
 ],
 "metadata": {
  "kernelspec": {
   "display_name": "Python 3 (ipykernel)",
   "language": "python",
   "name": "python3"
  },
  "language_info": {
   "codemirror_mode": {
    "name": "ipython",
    "version": 3
   },
   "file_extension": ".py",
   "mimetype": "text/x-python",
   "name": "python",
   "nbconvert_exporter": "python",
   "pygments_lexer": "ipython3",
   "version": "3.9.12"
  }
 },
 "nbformat": 4,
 "nbformat_minor": 5
}
